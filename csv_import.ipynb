{
 "cells": [
  {
   "attachments": {},
   "cell_type": "markdown",
   "metadata": {},
   "source": [
    "## Import CSV file into a postgres database\n",
    "### Steps\n",
    "* Import CSV file into pandas df\n",
    "* clean table name and remove all extra symbols, spaces, and capital leters\n",
    "* clean the column headers and remove all extra symbols, spaces, and captial letters\n",
    "* write the create table SQL statement\n",
    "* import the data into the db\n",
    "\n",
    "reference: https://www.youtube.com/watch?v=wqBFgaMgFQA&t=0s"
   ]
  },
  {
   "cell_type": "code",
   "execution_count": 2,
   "metadata": {},
   "outputs": [],
   "source": [
    "# import libraries\n",
    "\n",
    "import os\n",
    "import numpy as np\n",
    "import pandas as pd\n",
    "import psycopg2\n",
    "import shutil"
   ]
  },
  {
   "attachments": {},
   "cell_type": "markdown",
   "metadata": {},
   "source": [
    "## Find CSV files in directory"
   ]
  },
  {
   "cell_type": "code",
   "execution_count": 8,
   "metadata": {},
   "outputs": [],
   "source": [
    "# find CSV files in current working directory\n",
    "# make a new directory\n",
    "# move CSV files in the new directory"
   ]
  },
  {
   "cell_type": "code",
   "execution_count": 8,
   "metadata": {},
   "outputs": [],
   "source": [
    "# find CSV files in current working directory\n",
    "# isolate only the CSV files\n",
    "\n",
    "def csv_files ():\n",
    "    csv_files = []\n",
    "    for file in os.listdir(os.getcwd()):\n",
    "        if file.endswith('csv'):\n",
    "            csv_files.append(file)\n",
    "    return csv_files       "
   ]
  },
  {
   "cell_type": "code",
   "execution_count": 9,
   "metadata": {},
   "outputs": [],
   "source": [
    "# make a new directory\n",
    "# move CSV files in the new directory\n",
    "\n",
    "def configure_datset_directory(csv_files, dataset_dir):\n",
    "    \n",
    "    #make a new directory\n",
    "    try:\n",
    "        mkdir = 'mkdir {0}'.format(dataset_dir)\n",
    "        os.system(mkdir)\n",
    "    except:\n",
    "        pass\n",
    "\n",
    "    #mv filename directory\n",
    "    for csv in csv_files:\n",
    "        mv_file = \"{0}/{1}\".format(dataset_dir, csv)\n",
    "        shutil.move(csv, mv_file)\n",
    "        print(mv_file)\n",
    "    \n",
    "    return "
   ]
  },
  {
   "attachments": {},
   "cell_type": "markdown",
   "metadata": {},
   "source": [
    "## Create the pandas df from the CSV file"
   ]
  },
  {
   "cell_type": "code",
   "execution_count": 10,
   "metadata": {},
   "outputs": [],
   "source": [
    "def create_df (dataset_dir, csv_files):\n",
    "    \n",
    "    # path to the csv file\n",
    "    data_path =  os.getcwd()+'/' + dataset_dir + '/'\n",
    "\n",
    "    # loop through the files and create the dataframe\n",
    "    df = {}\n",
    "    for file in csv_files:\n",
    "        try:\n",
    "            df[file] = pd.read_csv(data_path+file)\n",
    "        except UnicodeDecodeError:\n",
    "            df[file] = pd.read_csv(data_path+file, encoding = \"ISO-8859-1\")\n",
    "    \n",
    "    return df"
   ]
  },
  {
   "attachments": {},
   "cell_type": "markdown",
   "metadata": {},
   "source": [
    "#### Clean table names and column names"
   ]
  },
  {
   "cell_type": "code",
   "execution_count": 22,
   "metadata": {},
   "outputs": [],
   "source": [
    "def upload_to_db(host, database, user, password, port, tbl_name, col_str, file, dataframe, dataframe_columns):\n",
    "    # open database connection\n",
    "    engine = psycopg2.connect(\n",
    "        database = database ,\n",
    "        user = user,\n",
    "        password = password,\n",
    "        host = host,\n",
    "        port = port)\n",
    "    cursor = engine.cursor()\n",
    "    print('opened database successfully')\n",
    "\n",
    "    # drop table with the same name\n",
    "    cursor.execute(\"drop table if exists %s;\" %(tbl_name))\n",
    "\n",
    "    # create table\n",
    "    cursor.execute(\"CREATE TABLE %s (%s);\" %(tbl_name, col_str))\n",
    "\n",
    "    #insert value to table\n",
    "\n",
    "    #save df to csv file\n",
    "    dataframe.to_csv(file, header = dataframe_columns, index = False, encoding = 'utf-8')\n",
    "\n",
    "    #open the csv file, save it as an object \n",
    "    my_file = open(file)\n",
    "    print('file open in memory')\n",
    "\n",
    "    # upload to db\n",
    "    SQL_STATEMENT = \"\"\"\n",
    "    COPY %s FROM STDIN WITH\n",
    "        CSV\n",
    "        HEADER\n",
    "        DELIMITER AS ','\n",
    "    \"\"\"\n",
    "    cursor.copy_expert(sql = SQL_STATEMENT % tbl_name, file=my_file)\n",
    "    print(\"file copied to db\")\n",
    "\n",
    "    cursor.execute(\"grant select on table %s to public\" % tbl_name)\n",
    "    engine.commit()\n",
    "\n",
    "    cursor.close()\n",
    "    print('table {0} imported to db completed'.format(tbl_name))\n",
    "\n",
    "    return"
   ]
  }
 ],
 "metadata": {
  "kernelspec": {
   "display_name": "Python 3.9.12 ('base')",
   "language": "python",
   "name": "python3"
  },
  "language_info": {
   "codemirror_mode": {
    "name": "ipython",
    "version": 3
   },
   "file_extension": ".py",
   "mimetype": "text/x-python",
   "name": "python",
   "nbconvert_exporter": "python",
   "pygments_lexer": "ipython3",
   "version": "3.9.12"
  },
  "orig_nbformat": 4,
  "vscode": {
   "interpreter": {
    "hash": "89747abb3fe9a6e80924dec83120fb2462276d4d4ef8b5a06d0605d07e8e2f05"
   }
  }
 },
 "nbformat": 4,
 "nbformat_minor": 2
}
